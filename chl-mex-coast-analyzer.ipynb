{
 "cells": [
  {
   "cell_type": "code",
   "execution_count": 3,
   "metadata": {},
   "outputs": [
    {
     "ename": "ModuleNotFoundError",
     "evalue": "No module named 'xcube_sh'",
     "output_type": "error",
     "traceback": [
      "\u001b[1;31m---------------------------------------------------------------------------\u001b[0m",
      "\u001b[1;31mModuleNotFoundError\u001b[0m                       Traceback (most recent call last)",
      "\u001b[1;32m<ipython-input-3-13fd629f5b3d>\u001b[0m in \u001b[0;36m<module>\u001b[1;34m\u001b[0m\n\u001b[0;32m      1\u001b[0m \u001b[1;31m# xcube_sh imports\u001b[0m\u001b[1;33m\u001b[0m\u001b[1;33m\u001b[0m\u001b[1;33m\u001b[0m\u001b[0m\n\u001b[1;32m----> 2\u001b[1;33m \u001b[1;32mfrom\u001b[0m \u001b[0mxcube_sh\u001b[0m\u001b[1;33m.\u001b[0m\u001b[0mcube\u001b[0m \u001b[1;32mimport\u001b[0m \u001b[0mopen_cube\u001b[0m\u001b[1;33m\u001b[0m\u001b[1;33m\u001b[0m\u001b[0m\n\u001b[0m\u001b[0;32m      3\u001b[0m \u001b[1;32mfrom\u001b[0m \u001b[0mxcube_sh\u001b[0m\u001b[1;33m.\u001b[0m\u001b[0mconfig\u001b[0m \u001b[1;32mimport\u001b[0m \u001b[0mCubeConfig\u001b[0m\u001b[1;33m\u001b[0m\u001b[1;33m\u001b[0m\u001b[0m\n\u001b[0;32m      4\u001b[0m \u001b[1;32mfrom\u001b[0m \u001b[0mxcube_sh\u001b[0m\u001b[1;33m.\u001b[0m\u001b[0mobservers\u001b[0m \u001b[1;32mimport\u001b[0m \u001b[0mObservers\u001b[0m\u001b[1;33m\u001b[0m\u001b[1;33m\u001b[0m\u001b[0m\n\u001b[0;32m      5\u001b[0m \u001b[1;32mfrom\u001b[0m \u001b[0mxcube_sh\u001b[0m\u001b[1;33m.\u001b[0m\u001b[0mviewer\u001b[0m \u001b[1;32mimport\u001b[0m \u001b[0mViewerServer\u001b[0m\u001b[1;33m\u001b[0m\u001b[1;33m\u001b[0m\u001b[0m\n",
      "\u001b[1;31mModuleNotFoundError\u001b[0m: No module named 'xcube_sh'"
     ]
    }
   ],
   "source": [
    "# xcube_sh imports\n",
    "from xcube_sh.cube import open_cube\n",
    "from xcube_sh.config import CubeConfig\n",
    "from xcube_sh.observers import Observers\n",
    "from xcube_sh.viewer import ViewerServer\n",
    "\n",
    "# xcube imports\n",
    "from xcube.core.maskset import MaskSet\n",
    "from xcube.core.geom import mask_dataset_by_geometry\n",
    "from xcube.core.geom import clip_dataset_by_geometry\n",
    "\n",
    "# Various utilities\n",
    "import json\n",
    "import numpy as np\n",
    "import xarray as xr\n",
    "import shapely.geometry\n",
    "import IPython.display\n",
    "import zarr\n",
    "import os\n",
    "import imageio\n",
    "import geopandas\n",
    "import matplotlib.pyplot as plt"
   ]
  },
  {
   "cell_type": "code",
   "execution_count": null,
   "metadata": {},
   "outputs": [],
   "source": [
    "%matplotlib inline\n",
    "import warnings\n",
    "warnings.filterwarnings('ignore')"
   ]
  },
  {
   "cell_type": "code",
   "execution_count": null,
   "metadata": {},
   "outputs": [],
   "source": [
    "#bbox2 cancun\n",
    "#x1 = -86.83  # degree\n",
    "#y1 = 21.00  # degree\n",
    "#x2 = -86.74  # degree\n",
    "#y2 = 21.16  # degree\n",
    "\n",
    "#bbox1 macro-cancun\n",
    "#x1 = -86.83  # degree\n",
    "#y1 = 21.00  # degree\n",
    "#x2 = -86.74  # degree\n",
    "#y2 = 21.16  # degree\n",
    "\n",
    "\n",
    "#bbox3 isla del carmen\n",
    "#x1 = -91.96  # degree\n",
    "#y1 = 18.50  # degree\n",
    "#x2 = -91.56  # degree\n",
    "#y2 = 18.80  # degree\n",
    "\n",
    "\n",
    "#bbox = x1, y1, x2, y2\n",
    "bbox1 = (-86.83, 21.00, -86.74, 21.16)\n",
    "bbox2 = (-86.89, 21.03, -86.74, 21.45)\n",
    "bbox3 = (-91.96, 18.50, -91.56, 18.80)"
   ]
  },
  {
   "cell_type": "code",
   "execution_count": null,
   "metadata": {},
   "outputs": [],
   "source": [
    "IPython.display.GeoJSON(shapely.geometry.box(*bbox2).__geo_interface__)"
   ]
  },
  {
   "cell_type": "code",
   "execution_count": null,
   "metadata": {},
   "outputs": [],
   "source": [
    "spatial_res = 0.00018   # = 20.038 meters in degree>"
   ]
  },
  {
   "cell_type": "code",
   "execution_count": null,
   "metadata": {},
   "outputs": [],
   "source": [
    "#cube 1 2019\n",
    "cube_config = CubeConfig(dataset_name='S2L2A',\n",
    "                         band_names=['B04', 'B05', 'B06', 'B11', 'SCL', 'CLD'],\n",
    "                         tile_size=[512, 512],\n",
    "                         geometry=bbox2,\n",
    "                         spatial_res=spatial_res,\n",
    "                         time_range=['2020-02-01', '2020-11-30'],\n",
    "                         time_period='5D')"
   ]
  },
  {
   "cell_type": "code",
   "execution_count": null,
   "metadata": {},
   "outputs": [],
   "source": [
    "request_collector = Observers.request_collector()"
   ]
  },
  {
   "cell_type": "code",
   "execution_count": null,
   "metadata": {},
   "outputs": [],
   "source": [
    "cube = open_cube(cube_config, observer=request_collector)"
   ]
  },
  {
   "cell_type": "code",
   "execution_count": null,
   "metadata": {},
   "outputs": [],
   "source": [
    "#masking land\n",
    "\n",
    "import xcube.core.maskset as maskset\n",
    "\n",
    "scene_classif = maskset.MaskSet(cube.SCL)"
   ]
  },
  {
   "cell_type": "code",
   "execution_count": null,
   "metadata": {},
   "outputs": [],
   "source": [
    "water_cube = cube.where(scene_classif.water)"
   ]
  },
  {
   "cell_type": "code",
   "execution_count": null,
   "metadata": {},
   "outputs": [],
   "source": [
    "#chl calculation\n",
    "\n",
    "b_from = water_cube.B04\n",
    "b_peek = water_cube.B05\n",
    "b_to = water_cube.B06\n",
    "\n",
    "wlen_from = b_from.attrs['wavelength']\n",
    "wlen_peek = b_peek.attrs['wavelength']\n",
    "wlen_to = b_to.attrs['wavelength']\n",
    "\n",
    "f = (wlen_peek - wlen_from) / (wlen_to - wlen_from)\n",
    "mci = (b_peek - b_from) - f * (b_to - b_from)\n",
    "\n",
    "############################################################\n",
    "\n",
    "\n",
    "mci.attrs['long_name'] = 'Maximum Chlorophyll Index'\n",
    "mci.attrs['units'] = 'unitless'\n"
   ]
  },
  {
   "cell_type": "code",
   "execution_count": null,
   "metadata": {},
   "outputs": [],
   "source": [
    "cancun_cube = xr.Dataset({'mci': mci})"
   ]
  },
  {
   "cell_type": "code",
   "execution_count": null,
   "metadata": {},
   "outputs": [],
   "source": [
    "#mci.time"
   ]
  },
  {
   "cell_type": "code",
   "execution_count": null,
   "metadata": {},
   "outputs": [],
   "source": [
    "cancun_cube.mci.isel(time=0).plot(vmin=0, vmax=0.05)"
   ]
  },
  {
   "cell_type": "code",
   "execution_count": null,
   "metadata": {},
   "outputs": [],
   "source": [
    "#the same as the first plot, but with dots\n",
    "fig=plt.figure()\n",
    "ax=fig.add_subplot(111)\n",
    "ax.set_ylim(ymin=0., ymax=0.050)\n",
    "cancun_cube.mci.sel(lat=21., lon=18., method=\"nearest\").plot(ax=ax, marker ='o', linestyle = '', antialiased=True)\n",
    "plt.savefig('mci_macro_cancun_2020.jpg')"
   ]
  },
  {
   "cell_type": "code",
   "execution_count": null,
   "metadata": {},
   "outputs": [],
   "source": [
    "n=0\n",
    "\n",
    "while n < 5:\n",
    "    m=cancun_cube.mci.isel(time=n)\n",
    "    m.plot(vmin=0, vmax=0.05, cmap= 'viridis', figsize = (10, 20))\n",
    "    plt.savefig(str(n)+'chl_macro_cancun20.jpg')\n",
    "    n=n+1"
   ]
  }
 ],
 "metadata": {
  "kernelspec": {
   "display_name": "Python 3",
   "language": "python",
   "name": "python3"
  },
  "language_info": {
   "codemirror_mode": {
    "name": "ipython",
    "version": 3
   },
   "file_extension": ".py",
   "mimetype": "text/x-python",
   "name": "python",
   "nbconvert_exporter": "python",
   "pygments_lexer": "ipython3",
   "version": "3.7.3"
  }
 },
 "nbformat": 4,
 "nbformat_minor": 2
}
